{
 "cells": [
  {
   "cell_type": "code",
   "execution_count": 1,
   "id": "0cb96718",
   "metadata": {},
   "outputs": [],
   "source": [
    "#!pip install tensorflow"
   ]
  },
  {
   "cell_type": "code",
   "execution_count": 2,
   "id": "3473d23c",
   "metadata": {},
   "outputs": [],
   "source": [
    "#!pip list"
   ]
  },
  {
   "cell_type": "code",
   "execution_count": 3,
   "id": "86a149eb",
   "metadata": {},
   "outputs": [],
   "source": [
    "import numpy as np\n",
    "import pandas as pd\n",
    "import matplotlib.pyplot as plt\n",
    "import os"
   ]
  },
  {
   "cell_type": "code",
   "execution_count": 4,
   "id": "3dd80584",
   "metadata": {},
   "outputs": [],
   "source": [
    "df=pd.read_csv(r\"C:\\Users\\pindi\\OneDrive\\Documents\\anti-spoofing\\df_anti-spoofing.csv\")"
   ]
  },
  {
   "cell_type": "code",
   "execution_count": 5,
   "id": "98352752",
   "metadata": {},
   "outputs": [
    {
     "name": "stderr",
     "output_type": "stream",
     "text": [
      "C:\\Users\\pindi\\AppData\\Local\\Temp\\ipykernel_24376\\3492287841.py:2: FutureWarning: Passing a negative integer is deprecated in version 1.0 and will not be supported in future version. Instead, use None to not limit the column width.\n",
      "  pd.set_option('display.max_colwidth',-1)\n"
     ]
    }
   ],
   "source": [
    "pd.set_option('display.max_columns',None)\n",
    "pd.set_option('display.max_colwidth',-1)"
   ]
  },
  {
   "cell_type": "code",
   "execution_count": 6,
   "id": "91ff8f9e",
   "metadata": {},
   "outputs": [
    {
     "name": "stdout",
     "output_type": "stream",
     "text": [
      "Index(['live_selfie', 'live_video', 'cut-out_printouts', 'printouts',\n",
      "       'replay'],\n",
      "      dtype='object')\n"
     ]
    }
   ],
   "source": [
    " print(df.columns)"
   ]
  },
  {
   "cell_type": "markdown",
   "id": "912e5d82",
   "metadata": {},
   "source": [
    "#data cleaning"
   ]
  },
  {
   "cell_type": "code",
   "execution_count": 7,
   "id": "1e2dde46",
   "metadata": {},
   "outputs": [
    {
     "name": "stdout",
     "output_type": "stream",
     "text": [
      "0    replay/0001ffba3c--62880080572a894c5df8f427__Samsung Galaxy J2 Core __Samsung Galaxy A22.mp4                                                       \n",
      "1    replay/0001ffba3c--6289196875a5cf63cd0cb302__Samsung galaxy s20 __IPhone 6s plus.mp4                                                               \n",
      "2    replay/0001ffba3c--628a68b5180bc205cf8704d2__Vivo y10__Honor 10 lite.mp4                                                                           \n",
      "3    replay/0001ffba3c--628c9dbb2579312f1ac7ee6f__тХи+нтХитЦСтХитХЭтХд+-тХд+втХитХЬтХитФВ  тХи+Й20__тХи+нтХитЦСтХитХЭтХд+-тХд+втХитХЬтХитФВ тХитЦС22.mp4\n",
      "4    replay/0001ffba3c--628e621c6789b1401e3cb184__Honor 50__Samsung note 9.mp4                                                                          \n",
      "5    replay/0001ffba3c--628f8595ab45cb7cba7116fd__iPhone 12 PRO__iPhone X.MOV                                                                           \n",
      "6    replay/0001ffba3c--629066494796d7421dad66b7__iPhone xr __iPhone 6s.MOV                                                                             \n",
      "7    replay/0001ffba3c--6295ba1f8753764e91dcf5df__Poco X3 Pro__Tecno Pouvoir 4.mp4                                                                      \n",
      "8    replay/0001ffba3c--62960f430bd50b2755f74916__Galaxy M31__M2003J15SG.mp4                                                                            \n",
      "Name: replay, dtype: object\n"
     ]
    }
   ],
   "source": [
    "#have to clean for replay for 3 row\n",
    "df_replay=df['replay']\n",
    "print(df_replay)"
   ]
  },
  {
   "cell_type": "code",
   "execution_count": 8,
   "id": "40ee3aba",
   "metadata": {},
   "outputs": [
    {
     "name": "stdout",
     "output_type": "stream",
     "text": [
      "replay/0001ffba3c--628c9dbb2579312f1ac7ee6f__-  20__- 22.mp4\n"
     ]
    }
   ],
   "source": [
    "df_replay.iloc[3]=r'replay/0001ffba3c--628c9dbb2579312f1ac7ee6f__-  20__- 22.mp4'\n",
    "print(df.iloc[3,4])"
   ]
  },
  {
   "cell_type": "code",
   "execution_count": 9,
   "id": "a383a164",
   "metadata": {},
   "outputs": [],
   "source": [
    "folder_path,label=[],[]"
   ]
  },
  {
   "cell_type": "markdown",
   "id": "0354eee5",
   "metadata": {},
   "source": [
    "##for different paths in live video"
   ]
  },
  {
   "cell_type": "code",
   "execution_count": 10,
   "id": "4c0e51a2",
   "metadata": {},
   "outputs": [],
   "source": [
    "for j in range(1,5):\n",
    "    row=[]\n",
    "    for i in range(0,9):\n",
    "        k=df.iloc[i][j].split('/')[0]\n",
    "        l=str(df.iloc[i][j].split('/')).split('--')[-1][:6]\n",
    "        row.append(os.path.join(r\"C:\\saving\",k,l))\n",
    "        os.makedirs(row[i],exist_ok=True)\n",
    "    folder_path.append(row)  "
   ]
  },
  {
   "cell_type": "code",
   "execution_count": 11,
   "id": "cd4fffbf",
   "metadata": {
    "scrolled": true
   },
   "outputs": [
    {
     "name": "stdout",
     "output_type": "stream",
     "text": [
      "cut-out printouts\n",
      "625473\n"
     ]
    }
   ],
   "source": [
    "k=df.iloc[8,2].split('/')[0]\n",
    "l=str(df.iloc[8,2].split('/')).split('--')[-1][:6]\n",
    "print(k)\n",
    "print(l)"
   ]
  },
  {
   "cell_type": "code",
   "execution_count": 12,
   "id": "e3f07ae5",
   "metadata": {},
   "outputs": [
    {
     "data": {
      "text/plain": [
       "'C:\\\\saving\\\\live_video\\\\62294e'"
      ]
     },
     "execution_count": 12,
     "metadata": {},
     "output_type": "execute_result"
    }
   ],
   "source": [
    "folder_path[0][0]"
   ]
  },
  {
   "cell_type": "code",
   "execution_count": 13,
   "id": "75a02412",
   "metadata": {
    "scrolled": true
   },
   "outputs": [
    {
     "name": "stdout",
     "output_type": "stream",
     "text": [
      "C:\\saving\\live_video\\62294e\n",
      "C:\\saving\\live_video\\622892\n",
      "C:\\saving\\live_video\\62457b\n",
      "C:\\saving\\live_video\\6239bb\n",
      "C:\\saving\\live_video\\62663c\n",
      "C:\\saving\\live_video\\623955\n",
      "C:\\saving\\live_video\\6239cf\n",
      "C:\\saving\\live_video\\624508\n",
      "C:\\saving\\live_video\\625473\n",
      "***********************************************************************************************************\n",
      "C:\\saving\\cut-out printouts\\62294e\n",
      "C:\\saving\\cut-out printouts\\622892\n",
      "C:\\saving\\cut-out printouts\\62457b\n",
      "C:\\saving\\cut-out printouts\\6239bb\n",
      "C:\\saving\\cut-out printouts\\62663c\n",
      "C:\\saving\\cut-out printouts\\623955\n",
      "C:\\saving\\cut-out printouts\\6239cf\n",
      "C:\\saving\\cut-out printouts\\624508\n",
      "C:\\saving\\cut-out printouts\\625473\n",
      "***********************************************************************************************************\n",
      "C:\\saving\\printouts\\62294e\n",
      "C:\\saving\\printouts\\622892\n",
      "C:\\saving\\printouts\\62457b\n",
      "C:\\saving\\printouts\\6239bb\n",
      "C:\\saving\\printouts\\62663c\n",
      "C:\\saving\\printouts\\623955\n",
      "C:\\saving\\printouts\\6239cf\n",
      "C:\\saving\\printouts\\624508\n",
      "C:\\saving\\printouts\\625473\n",
      "***********************************************************************************************************\n",
      "C:\\saving\\replay\\628800\n",
      "C:\\saving\\replay\\628919\n",
      "C:\\saving\\replay\\628a68\n",
      "C:\\saving\\replay\\628c9d\n",
      "C:\\saving\\replay\\628e62\n",
      "C:\\saving\\replay\\628f85\n",
      "C:\\saving\\replay\\629066\n",
      "C:\\saving\\replay\\6295ba\n",
      "C:\\saving\\replay\\62960f\n",
      "***********************************************************************************************************\n"
     ]
    }
   ],
   "source": [
    "for j in range(0,4):\n",
    "    for i in range(0,9):\n",
    "        print(folder_path[j][i])\n",
    "    print('***********************************************************************************************************')"
   ]
  },
  {
   "cell_type": "code",
   "execution_count": 14,
   "id": "13b50415",
   "metadata": {},
   "outputs": [
    {
     "data": {
      "text/plain": [
       "pandas.core.frame.DataFrame"
      ]
     },
     "execution_count": 14,
     "metadata": {},
     "output_type": "execute_result"
    }
   ],
   "source": [
    "type(df)"
   ]
  },
  {
   "cell_type": "markdown",
   "id": "d938dd78",
   "metadata": {},
   "source": [
    "#image capturing"
   ]
  },
  {
   "cell_type": "code",
   "execution_count": 15,
   "id": "2c384aab",
   "metadata": {},
   "outputs": [],
   "source": [
    "import cv2"
   ]
  },
  {
   "cell_type": "code",
   "execution_count": 16,
   "id": "2b3b01ff",
   "metadata": {},
   "outputs": [],
   "source": [
    "additional_path=r'C:\\Users\\pindi\\OneDrive\\Documents\\anti-spoofing\\\\'"
   ]
  },
  {
   "cell_type": "code",
   "execution_count": 17,
   "id": "b64e74b3",
   "metadata": {},
   "outputs": [
    {
     "name": "stdout",
     "output_type": "stream",
     "text": [
      "C:\\Users\\pindi\\OneDrive\\Documents\\anti-spoofing\\\\live_video/0001e96803--62294efac72a824e5bb369f3__Xiaomi note 10s.mp4\n",
      "C:\\Users\\pindi\\OneDrive\\Documents\\anti-spoofing\\\\live_video/0001e96803--6228928cb608822f9f53589e__Xiaomi redmi note 9 pro.mp4\n",
      "C:\\Users\\pindi\\OneDrive\\Documents\\anti-spoofing\\\\live_video/0001e96803--62457bc94ff454214e8af551__Infinix note 11.mp4\n",
      "C:\\Users\\pindi\\OneDrive\\Documents\\anti-spoofing\\\\live_video/0001e96803--6239bb2420237d576aade0ea__Moto G30.mp4\n",
      "C:\\Users\\pindi\\OneDrive\\Documents\\anti-spoofing\\\\live_video/0001e96803--62663cf6d21d14509973bcb4__Poco x3.mp4\n",
      "C:\\Users\\pindi\\OneDrive\\Documents\\anti-spoofing\\\\live_video/0001e96803--623955e76e1ee5175569a12b__HONOR 10I .mp4\n",
      "C:\\Users\\pindi\\OneDrive\\Documents\\anti-spoofing\\\\live_video/0001e96803--6239cf6720237d576aafbe45__Samsung Galaxy a22.mp4\n",
      "C:\\Users\\pindi\\OneDrive\\Documents\\anti-spoofing\\\\live_video/0001e96803--624508e961974a65884d9fd3__Redmi note 9.mp4\n",
      "C:\\Users\\pindi\\OneDrive\\Documents\\anti-spoofing\\\\live_video/0001e96803--625473b64949293a58c89e41__Oppo a5s.mp4\n",
      "***************************************************************************************\n",
      "C:\\Users\\pindi\\OneDrive\\Documents\\anti-spoofing\\\\cut-out printouts/0001e96803--62294efac72a824e5bb369f3.mp4\n",
      "C:\\Users\\pindi\\OneDrive\\Documents\\anti-spoofing\\\\cut-out printouts/0001e96803--6228928cb608822f9f53589e.mp4\n",
      "C:\\Users\\pindi\\OneDrive\\Documents\\anti-spoofing\\\\cut-out printouts/0001e96803--62457bc94ff454214e8af551.mp4\n",
      "C:\\Users\\pindi\\OneDrive\\Documents\\anti-spoofing\\\\cut-out printouts/0001e96803--6239bb2420237d576aade0ea.mp4\n",
      "C:\\Users\\pindi\\OneDrive\\Documents\\anti-spoofing\\\\cut-out printouts/0001e96803--62663cf6d21d14509973bcb4.mp4\n",
      "C:\\Users\\pindi\\OneDrive\\Documents\\anti-spoofing\\\\cut-out printouts/0001e96803--623955e76e1ee5175569a12b.mp4\n",
      "C:\\Users\\pindi\\OneDrive\\Documents\\anti-spoofing\\\\cut-out printouts/0001e96803--6239cf6720237d576aafbe45.mp4\n",
      "C:\\Users\\pindi\\OneDrive\\Documents\\anti-spoofing\\\\cut-out printouts/0001e96803--624508e961974a65884d9fd3.mp4\n",
      "C:\\Users\\pindi\\OneDrive\\Documents\\anti-spoofing\\\\cut-out printouts/0001e96803--625473b64949293a58c89e41.mp4\n",
      "***************************************************************************************\n",
      "C:\\Users\\pindi\\OneDrive\\Documents\\anti-spoofing\\\\printouts/0001e96803--62294efac72a824e5bb369f3.mp4\n"
     ]
    },
    {
     "ename": "KeyboardInterrupt",
     "evalue": "",
     "output_type": "error",
     "traceback": [
      "\u001b[1;31m---------------------------------------------------------------------------\u001b[0m",
      "\u001b[1;31mKeyboardInterrupt\u001b[0m                         Traceback (most recent call last)",
      "Cell \u001b[1;32mIn[17], line 16\u001b[0m\n\u001b[0;32m     14\u001b[0m current_frame\u001b[38;5;241m=\u001b[39m\u001b[38;5;241m0\u001b[39m\n\u001b[0;32m     15\u001b[0m \u001b[38;5;28;01mwhile\u001b[39;00m \u001b[38;5;28;01mTrue\u001b[39;00m:\n\u001b[1;32m---> 16\u001b[0m     ret,frame\u001b[38;5;241m=\u001b[39m\u001b[43mvideo\u001b[49m\u001b[38;5;241;43m.\u001b[39;49m\u001b[43mread\u001b[49m\u001b[43m(\u001b[49m\u001b[43m)\u001b[49m\n\u001b[0;32m     17\u001b[0m     \u001b[38;5;28;01mif\u001b[39;00m \u001b[38;5;129;01mnot\u001b[39;00m ret:\n\u001b[0;32m     18\u001b[0m         \u001b[38;5;28;01mbreak\u001b[39;00m\n",
      "\u001b[1;31mKeyboardInterrupt\u001b[0m: "
     ]
    }
   ],
   "source": [
    "total_frames=[]\n",
    "\n",
    "for j in range(0,4):\n",
    "    video_path,frames=[],[]\n",
    "    for i in range(0,9):\n",
    "        video_path.append(additional_path+df.iloc[i][j+1])\n",
    "        print(video_path[i])\n",
    "        video=cv2.VideoCapture(video_path[i])\n",
    "        if not video.isOpened():\n",
    "            print('Error opening video file')\n",
    "            exit()\n",
    "        frames.append(int(video.get(cv2.CAP_PROP_FRAME_COUNT))) \n",
    "        frame_interval=1\n",
    "        current_frame=0\n",
    "        while True:\n",
    "            ret,frame=video.read()\n",
    "            if not ret:\n",
    "                break\n",
    "            if current_frame%frame_interval==0:\n",
    "                frame_path=os.path.join(folder_path[j][i],f'frame_{current_frame}.jpg')\n",
    "                cv2.imwrite(frame_path,frame)\n",
    "            current_frame+=1 \n",
    "        video.release()\n",
    "        cv2.destroyAllWindows()\n",
    "            \n",
    "    print('***************************************************************************************')    \n",
    "    total_frames.append(frames)\n",
    "   "
   ]
  },
  {
   "cell_type": "code",
   "execution_count": 18,
   "id": "94e743eb",
   "metadata": {},
   "outputs": [
    {
     "data": {
      "text/plain": [
       "[[304, 320, 299, 341, 439, 415, 303, 225, 320],\n",
       " [240, 236, 264, 221, 263, 269, 265, 337, 248]]"
      ]
     },
     "execution_count": 18,
     "metadata": {},
     "output_type": "execute_result"
    }
   ],
   "source": [
    "total_frames"
   ]
  },
  {
   "cell_type": "code",
   "execution_count": null,
   "id": "cf4e23b2",
   "metadata": {},
   "outputs": [],
   "source": [
    "current_frame"
   ]
  },
  {
   "cell_type": "code",
   "execution_count": null,
   "id": "3a290dde",
   "metadata": {},
   "outputs": [],
   "source": [
    "#folder_path\n",
    "#\"C:\\Users\\pindi\\OneDrive\\Documents\\anti-spoofing\\live_video\\0001e96803--62294efac72a824e5bb369f3__Xiaomi note 10s.mp4\""
   ]
  },
  {
   "cell_type": "code",
   "execution_count": null,
   "id": "ec547d3b",
   "metadata": {},
   "outputs": [],
   "source": [
    "#replay/0001ffba3c--628c9dbb2579312f1ac7ee6f__-  20__- 22.mp4 "
   ]
  },
  {
   "cell_type": "markdown",
   "id": "65583d89",
   "metadata": {},
   "source": [
    "#from image folders"
   ]
  }
 ],
 "metadata": {
  "kernelspec": {
   "display_name": "Python 3 (ipykernel)",
   "language": "python",
   "name": "python3"
  },
  "language_info": {
   "codemirror_mode": {
    "name": "ipython",
    "version": 3
   },
   "file_extension": ".py",
   "mimetype": "text/x-python",
   "name": "python",
   "nbconvert_exporter": "python",
   "pygments_lexer": "ipython3",
   "version": "3.10.9"
  }
 },
 "nbformat": 4,
 "nbformat_minor": 5
}
